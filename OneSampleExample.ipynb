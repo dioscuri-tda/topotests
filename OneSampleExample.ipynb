{
 "cells": [
  {
   "cell_type": "markdown",
   "id": "1ce561a8-9ad1-49f9-8b91-00a8510d06bd",
   "metadata": {},
   "source": [
    "# TopoTest for one-sample problem"
   ]
  },
  {
   "cell_type": "markdown",
   "id": "5a33cf22-7675-4177-ab39-0545a0d6b2fd",
   "metadata": {},
   "source": [
    "This notebook shows how to use codebase for TopoTests.\n",
    "\n",
    "Based on paper `Topology-Driven Goodness-of-Fit Tests in Arbitrary Dimensions` \n",
    "by Paweł Dłotko, Niklas Hellmer, Łukasz Stettner and Rafał Topolnicki."
   ]
  },
  {
   "cell_type": "code",
   "execution_count": 1,
   "id": "22339bc6-71ff-493d-b18b-acb1c7da6c36",
   "metadata": {},
   "outputs": [],
   "source": [
    "import sys\n",
    "import pandas as pd\n",
    "import numpy as np\n",
    "sys.path.append('topotests/')\n",
    "from topotests.topotests import TopoTestOnesample\n",
    "\n",
    "# import some random variables (RV) generators\n",
    "from scipy.stats import norm, multivariate_normal, t\n",
    "# import univariate Kolmogorov-Smirnov test\n",
    "from scipy.stats import kstest\n",
    "\n",
    "# set random number generator seed for reproducibility\n",
    "np.random.seed(seed=12345)"
   ]
  },
  {
   "cell_type": "markdown",
   "id": "07fa7196-6f44-421e-abe5-0d02daa58fdf",
   "metadata": {},
   "source": [
    "## Univarite test"
   ]
  },
  {
   "cell_type": "code",
   "execution_count": 2,
   "id": "7c668d1b-2bf6-48d7-b0e7-385fc30a62af",
   "metadata": {},
   "outputs": [],
   "source": [
    "# create some random variabes used togenerate data. \n",
    "# TopoTest requires that RV has a rvs(size) method that returns a random sample from null distribution\n",
    "\n",
    "\n",
    "# first let's create the standard normal RV and a RV that represents a Student's distribution with df=3 degrees df is defined later) of freedom\n",
    "rv_norm = norm\n",
    "rv_t = t(df=3)\n",
    "\n",
    "# draw samples from this distriutions\n",
    "n = 100 # sample size\n",
    "sample_norm = rv_norm.rvs(size=n)\n",
    "sample_t = rv_t.rvs(size=n)\n",
    "\n",
    "# set the significance level\n",
    "alpha=0.05"
   ]
  },
  {
   "cell_type": "markdown",
   "id": "81f9e35b-9b76-4ddb-82b0-1cea9cadd0bd",
   "metadata": {},
   "source": [
    "Lets assume we are interested in testinh hypotehsis:\n",
    "\n",
    "$H_0:$ sample was generated from $\\mathcal{N}(0,1)$ vs. $H_1:$ sample was sampled from some distribution different different from standard normal $\\mathcal{N}(0,1)$\n",
    "\n",
    "Hence, $F=\\mathcal{N}(0,1)$, reprented here by `rv_norm` object, is a null distributon.\n",
    "\n",
    "\n",
    "Not create an aculat test via TopoTestOnesample object"
   ]
  },
  {
   "cell_type": "code",
   "execution_count": 3,
   "id": "4a1407dd-604e-4639-9e08-fde092753972",
   "metadata": {},
   "outputs": [],
   "source": [
    "tt = TopoTestOnesample(n=n, dim=1, significance_level=alpha)"
   ]
  },
  {
   "cell_type": "markdown",
   "id": "6dc0900f-f854-40fc-aff1-0d74cfc34c1e",
   "metadata": {},
   "source": [
    "TopoTest needs to be fitted to the null distirbution, therefore"
   ]
  },
  {
   "cell_type": "code",
   "execution_count": 4,
   "id": "4ef7f26f-9457-4773-b5e4-ea205e248cd2",
   "metadata": {},
   "outputs": [],
   "source": [
    "tt.fit(rv=rv_norm, n_signature=1000, n_test=1000)"
   ]
  },
  {
   "cell_type": "markdown",
   "id": "e057d615-395f-4d43-b274-c8aec36c6220",
   "metadata": {},
   "source": [
    "Now we are redy to run actual test"
   ]
  },
  {
   "cell_type": "code",
   "execution_count": 5,
   "id": "b25341ab-5195-4be6-a69b-e696b352bd52",
   "metadata": {},
   "outputs": [
    {
     "data": {
      "text/plain": [
       "([True], [0.778])"
      ]
     },
     "execution_count": 5,
     "metadata": {},
     "output_type": "execute_result"
    }
   ],
   "source": [
    "tt.predict(sample_norm)"
   ]
  },
  {
   "cell_type": "markdown",
   "id": "ef309c39-88cd-4e7f-b2ab-a46aeeaae2c5",
   "metadata": {},
   "source": [
    "p-value is 0.778, which is below assumed significance level $\\alpha=0.05$ hence we do not reject the $H_0$ hypotehsis (this is indicated by value `True` returned in the first element of the tuple).\n",
    "\n",
    "Now let's do the same for sample generated from Student's-t distribution."
   ]
  },
  {
   "cell_type": "code",
   "execution_count": 6,
   "id": "316c730c-a618-41fa-9186-52b3fc16c3bc",
   "metadata": {},
   "outputs": [
    {
     "data": {
      "text/plain": [
       "([False], [0.009])"
      ]
     },
     "execution_count": 6,
     "metadata": {},
     "output_type": "execute_result"
    }
   ],
   "source": [
    "tt.predict(sample_t)"
   ]
  },
  {
   "cell_type": "markdown",
   "id": "55504919-d128-4134-8fdc-c9604b3ea7c5",
   "metadata": {},
   "source": [
    "For the same sample, the null hypothesis is not rejected by the Kolmogorov-Smirnov test, indicatin a better performance of the TopoTest"
   ]
  },
  {
   "cell_type": "code",
   "execution_count": 7,
   "id": "83a46126-fb55-47cd-8b5f-5691f20095e8",
   "metadata": {},
   "outputs": [
    {
     "data": {
      "text/plain": [
       "KstestResult(statistic=0.06185145001574388, pvalue=0.8159981812674457)"
      ]
     },
     "execution_count": 7,
     "metadata": {},
     "output_type": "execute_result"
    }
   ],
   "source": [
    "kstest(sample_t, cdf=rv_norm.cdf)"
   ]
  },
  {
   "cell_type": "markdown",
   "id": "8ef311d7-33dd-4f0f-8f85-02b58796cd88",
   "metadata": {},
   "source": [
    "Now the p-value < $\\alpha$ and null hypothesis should be rejected. "
   ]
  },
  {
   "cell_type": "markdown",
   "id": "4e306c90-9571-4f41-bec4-f8f8fab69d0a",
   "metadata": {},
   "source": [
    "Mind that the fitting procedur, peformed by `tt.fit()` need to be run only once for given sample size $n$ and null distribution. Moreover, the `predict` method can take more than just one sample. Therfore it is straightforward to compute the power of the TopoTest then Student's with 3 degrees of freedom is an alternative"
   ]
  },
  {
   "cell_type": "code",
   "execution_count": 8,
   "id": "2ab726af-ac94-4e0e-81f4-2497834472c6",
   "metadata": {},
   "outputs": [
    {
     "name": "stdout",
     "output_type": "stream",
     "text": [
      "Estimated power for TopoTest for null=N(0,1) and alternative t(df=3) is 0.683\n"
     ]
    }
   ],
   "source": [
    "number_of_samples = 1000\n",
    "samples_t = [rv_t.rvs(size=n) for i in range(number_of_samples)]\n",
    "accept_h0, pvals = tt.predict(samples_t)\n",
    "\n",
    "power = 1 - np.mean(accept_h0)\n",
    "print(f'Estimated power for TopoTest for null=N(0,1) and alternative t(df=3) is {power}')"
   ]
  },
  {
   "cell_type": "markdown",
   "id": "16e450b5-313d-4357-a7db-d42604843fe1",
   "metadata": {},
   "source": [
    "Let's compute the power of the Kolmogorov-Smirnov test"
   ]
  },
  {
   "cell_type": "code",
   "execution_count": 9,
   "id": "d8a54918-1a71-481b-81e4-27214ea0e24c",
   "metadata": {},
   "outputs": [
    {
     "name": "stdout",
     "output_type": "stream",
     "text": [
      "Estimated power for Kolmogorov-Smirnov for null=N(0,1) and alternative t(df=3) is 0.111\n"
     ]
    }
   ],
   "source": [
    "ks_pvals = [kstest(sample, cdf=rv_norm.cdf).pvalue for sample in samples_t]\n",
    "ks_reject = [pval < alpha for pval in ks_pvals]\n",
    "ks_power = np.mean(ks_reject)\n",
    "print(f'Estimated power for Kolmogorov-Smirnov for null=N(0,1) and alternative t(df=3) is {ks_power}')"
   ]
  },
  {
   "cell_type": "markdown",
   "id": "57b74cde-6f74-43a1-970c-1179b5325349",
   "metadata": {},
   "source": [
    "Hence, in this setting, The power of TopoTest is significanly larger then power of Kolmogorov-Smirnov."
   ]
  },
  {
   "cell_type": "markdown",
   "id": "1e27e625-b060-4546-a9cb-8ad0f769e8a3",
   "metadata": {},
   "source": [
    "## Multivariate test\n",
    "TODO"
   ]
  }
 ],
 "metadata": {
  "kernelspec": {
   "display_name": "Python 3 (ipykernel)",
   "language": "python",
   "name": "python3"
  },
  "language_info": {
   "codemirror_mode": {
    "name": "ipython",
    "version": 3
   },
   "file_extension": ".py",
   "mimetype": "text/x-python",
   "name": "python",
   "nbconvert_exporter": "python",
   "pygments_lexer": "ipython3",
   "version": "3.8.10"
  }
 },
 "nbformat": 4,
 "nbformat_minor": 5
}
