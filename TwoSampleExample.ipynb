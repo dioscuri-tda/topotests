{
 "cells": [
  {
   "cell_type": "markdown",
   "id": "1ce561a8-9ad1-49f9-8b91-00a8510d06bd",
   "metadata": {},
   "source": [
    "# TopoTest for two-sample problem"
   ]
  },
  {
   "cell_type": "markdown",
   "id": "5a33cf22-7675-4177-ab39-0545a0d6b2fd",
   "metadata": {},
   "source": [
    "This notebook shows how to use codebase for TopoTests.\n",
    "\n",
    "Based on paper `Topology-Driven Goodness-of-Fit Tests in Arbitrary Dimensions` \n",
    "by Paweł Dłotko, Niklas Hellmer, Łukasz Stettner and Rafał Topolnicki."
   ]
  },
  {
   "cell_type": "code",
   "execution_count": 1,
   "id": "22339bc6-71ff-493d-b18b-acb1c7da6c36",
   "metadata": {},
   "outputs": [],
   "source": [
    "import sys\n",
    "import pandas as pd\n",
    "import numpy as np\n",
    "sys.path.append('topotests/')\n",
    "from topotests.topotests import TopoTestTwosample\n",
    "\n",
    "# import some random variables (RV) generators\n",
    "from scipy.stats import norm, multivariate_normal, t, multivariate_t\n",
    "# import univariate Kolmogorov-Smirnov test\n",
    "from scipy.stats import ks_2samp\n",
    "\n",
    "# set random number generator seed for reproducibility\n",
    "np.random.seed(seed=12345)"
   ]
  },
  {
   "cell_type": "markdown",
   "id": "07fa7196-6f44-421e-abe5-0d02daa58fdf",
   "metadata": {},
   "source": [
    "## Univarite test (two-sample)"
   ]
  },
  {
   "cell_type": "code",
   "execution_count": 2,
   "id": "7c668d1b-2bf6-48d7-b0e7-385fc30a62af",
   "metadata": {},
   "outputs": [],
   "source": [
    "# create some random variabes used togenerate data. \n",
    "# TopoTest requires that RV has a rvs(size) method that returns a random sample from null distribution\n",
    "\n",
    "# first let's create the standard normal RV and a RV that represents a Student's distribution with df=3 degrees df is defined later) of freedom\n",
    "rv_norm = norm\n",
    "rv_t = t(df=3)\n",
    "\n",
    "# draw samples from this distriutions\n",
    "n = 100 # sample size\n",
    "sample_norm = rv_norm.rvs(size=n)\n",
    "sample_t = rv_norm.rvs(size=n)\n",
    "\n",
    "# set the significance level\n",
    "alpha=0.05"
   ]
  },
  {
   "cell_type": "markdown",
   "id": "cf14ea0c-438e-4312-82cd-91fdcfd3b23d",
   "metadata": {},
   "source": [
    "In two-sample problem the null hypotehsis is that samples `sample_norm` and `sample_t` were drawn from the same distribution.\n",
    "\n",
    "Run two-sample TopoTest"
   ]
  },
  {
   "cell_type": "code",
   "execution_count": 3,
   "id": "0687b160-6e51-4f99-8e43-96fdb2add92a",
   "metadata": {},
   "outputs": [
    {
     "data": {
      "text/plain": [
       "TopoTestResult(statistic=0.06000000000000005, pvalue=0.622)"
      ]
     },
     "execution_count": 3,
     "metadata": {},
     "output_type": "execute_result"
    }
   ],
   "source": [
    "TopoTestTwosample(X1=sample_norm, X2=sample_t)"
   ]
  },
  {
   "cell_type": "markdown",
   "id": "3331cae5-c235-4054-9271-68d5581e6d20",
   "metadata": {},
   "source": [
    "Estimated p-value is 0.622. Hence, in this case one should not reject the null hypothesis at significance level 0.05. \n",
    "\n",
    "As can be seen the null hypothesis is also not rejected by the Kolmogorov-Smirnov test (p-value is 0.11)"
   ]
  },
  {
   "cell_type": "code",
   "execution_count": 4,
   "id": "cfb5204e-bf94-468b-b11e-16644b0b6f08",
   "metadata": {},
   "outputs": [
    {
     "data": {
      "text/plain": [
       "KstestResult(statistic=0.17, pvalue=0.11119526053829192)"
      ]
     },
     "execution_count": 4,
     "metadata": {},
     "output_type": "execute_result"
    }
   ],
   "source": [
    "ks_2samp(sample_norm, sample_t)"
   ]
  },
  {
   "cell_type": "markdown",
   "id": "487a0428-fbf9-46c6-b9bd-58a68d40b7cc",
   "metadata": {},
   "source": [
    "Let run the sanity check to verify that type I error is recovered when two input samples were drawn for the same distribution"
   ]
  },
  {
   "cell_type": "code",
   "execution_count": 5,
   "id": "cc33a35b-4f99-4725-9b45-3f4cd2f65a1c",
   "metadata": {},
   "outputs": [
    {
     "name": "stdout",
     "output_type": "stream",
     "text": [
      "Empirical power (TopoTest) = 0.056\n"
     ]
    }
   ],
   "source": [
    "mcloops = 500\n",
    "pvalues = []\n",
    "for mcloop in range(mcloops):\n",
    "    s1 = rv_norm.rvs(size=n)\n",
    "    s2 = rv_norm.rvs(size=n)\n",
    "    _, pvalue = TopoTestTwosample(X1=s1, X2=s2, loops=250)\n",
    "    pvalues.append(pvalue)\n",
    "\n",
    "alpha = 0.05\n",
    "power_tt = np.mean([pvalue < alpha for pvalue in pvalues])\n",
    "print(f'Empirical power (TopoTest) = {power_tt}')"
   ]
  },
  {
   "cell_type": "markdown",
   "id": "acea7a96-6069-4c4b-af11-802db366c309",
   "metadata": {},
   "source": [
    "The empirical pvalue (0.056) is very close to significance level as expected.\n",
    "\n",
    "Now estimate the power of the TopoTest for samples drawn from standard normal and Student's-t distributions. Lets compute the power of Kolmogorov-Smirnov counterpart as well."
   ]
  },
  {
   "cell_type": "code",
   "execution_count": 6,
   "id": "83ddeae2-5564-4d85-affd-7fd2b54e3584",
   "metadata": {},
   "outputs": [],
   "source": [
    "mcloops = 500\n",
    "pvalues = []\n",
    "pvalues_ks = []\n",
    "for mcloop in range(mcloops):\n",
    "    sample_n = rv_norm.rvs(size=100)\n",
    "    sample_t = rv_t.rvs(size=100)\n",
    "    _, pvalue = TopoTestTwosample(X1=sample_n, X2=sample_t, loops=500)\n",
    "    pvalues.append(pvalue)\n",
    "    pvalues_ks.append(ks_2samp(sample_n, sample_t).pvalue)"
   ]
  },
  {
   "cell_type": "code",
   "execution_count": 7,
   "id": "c8bf15c8-8026-48c3-9b02-cbc166c199aa",
   "metadata": {},
   "outputs": [
    {
     "name": "stdout",
     "output_type": "stream",
     "text": [
      "Empirical power (TopoTest) = 0.506\n",
      "Empirical power (Komogorov-Smirnov) = 0.044\n"
     ]
    }
   ],
   "source": [
    "alpha = 0.05\n",
    "power_tt = np.mean([pvalue < alpha for pvalue in pvalues])\n",
    "power_ks = np.mean([pvalue < alpha for pvalue in pvalues_ks])\n",
    "print(f'Empirical power (TopoTest) = {power_tt}')\n",
    "print(f'Empirical power (Komogorov-Smirnov) = {power_ks}')"
   ]
  },
  {
   "cell_type": "markdown",
   "id": "2d980e09-4744-4096-bb71-90f4a0c36ca0",
   "metadata": {},
   "source": [
    "The empirical power of two sample TopoTest (0.506) is much larger than empircial power of Kolmogorov-Smirnov test (0.044).  "
   ]
  }
 ],
 "metadata": {
  "kernelspec": {
   "display_name": "Python 3 (ipykernel)",
   "language": "python",
   "name": "python3"
  },
  "language_info": {
   "codemirror_mode": {
    "name": "ipython",
    "version": 3
   },
   "file_extension": ".py",
   "mimetype": "text/x-python",
   "name": "python",
   "nbconvert_exporter": "python",
   "pygments_lexer": "ipython3",
   "version": "3.8.10"
  }
 },
 "nbformat": 4,
 "nbformat_minor": 5
}
